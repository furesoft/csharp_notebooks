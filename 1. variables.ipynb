{
 "cells": [
  {
   "cell_type": "markdown",
   "metadata": {},
   "source": [
    "# Introduction\n",
    "\n",
    "Variables in CSharp are containers used to store data values. They are essential components of programming, allowing you to manipulate and work with different types of information within your code. Each variable has a specific data type that determines what kind of data it can hold and how much memory it occupies.\n",
    "Here's a brief introduction to variables in CSharp with some examples:\n",
    "\n",
    "## Declaration and Initialization\n",
    "To create a variable in CSharp, you need to declare its type and give it a name. You can also initialize it with a value in the same statement:\n",
    "\n",
    "```csharp\n",
    "int age = 25;\n",
    "string name = \"John Doe\";\n",
    "bool isStudent = true;\n",
    "double height = 1.75;\n",
    "```\n",
    "\n",
    "## Common Data Types\n",
    "\n",
    "Here's a table showing some common data types in CSharp, their value ranges, and examples:\n",
    "\n",
    "| **Data Type** | **Value Range**                               | **Example**                     |\n",
    "|---------------|-----------------------------------------------|---------------------------------|\n",
    "| `int`         | -2,147,483,648 to 2,147,483,647              | `int count = 100;`             |\n",
    "| `long`        | -9,223,372,036,854,775,808 to 9,223,372,036,854,775,807 | `long population = 7800000000;` |\n",
    "| `float`       | ±1.5 x 10^-45 to ±3.4 x 10^38                | `float price = 9.99f;`         |\n",
    "| `double`      | ±5.0 × 10^−324 to ±1.7 × 10^308              | `double pi = 3.14159265359;`   |\n",
    "| `decimal`     | ±1.0 x 10^-28 to ±7.9228 x 10^28             | `decimal taxRate = 0.075m;`    |\n",
    "| `bool`        | true or false                                | `bool isOpen = false;`         |\n",
    "| `char`        | U+0000 to U+FFFF                             | `char grade = 'A';`            |\n",
    "| `string`      | Sequence of characters                       | `string message = \"Hello, World!\";` |\n",
    "\n",
    "\n",
    "CSharp can also deduce the datatype automaticly based on the value used:\n",
    "\n",
    "```csharp\n",
    "var isOpen = false;\n",
    "var pi = 3.14;\n",
    "```\n",
    "\n",
    "# Excercices\n",
    "1. Create variables for the length and width of a rectangle. Calculate the perimeter and area of the rectangle, store the results in the erimeter variable.\n"
   ]
  },
  {
   "cell_type": "code",
   "execution_count": null,
   "metadata": {},
   "outputs": [],
   "source": [
    "var perimeter = ??;\n",
    "System.Console.WriteLine(perimeter);"
   ]
  },
  {
   "cell_type": "markdown",
   "metadata": {},
   "source": [
    "\n",
    "2. Create variables that store your personal information (firstname, lastname, age, address) and create a result string that contains all information seperated by a new line\n",
    "- Hint: you can use special characters like new line with a backlash:\n",
    "\n",
    "\\\\n - new line \\\n",
    "\\\\t - tab"
   ]
  },
  {
   "cell_type": "code",
   "execution_count": null,
   "metadata": {
    "dotnet_interactive": {
     "language": "csharp"
    },
    "polyglot_notebook": {
     "kernelName": "csharp"
    }
   },
   "outputs": [],
   "source": [
    "\n",
    "var information = ??;\n",
    "System.Console.WriteLine(information);"
   ]
  }
 ],
 "metadata": {
  "kernelspec": {
   "display_name": ".NET (C#)",
   "language": "C#",
   "name": ".net-csharp"
  },
  "polyglot_notebook": {
   "kernelInfo": {
    "defaultKernelName": "csharp",
    "items": [
     {
      "aliases": [],
      "name": "csharp"
     }
    ]
   }
  }
 },
 "nbformat": 4,
 "nbformat_minor": 2
}
