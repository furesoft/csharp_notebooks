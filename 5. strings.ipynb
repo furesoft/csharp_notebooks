{
 "cells": [
  {
   "cell_type": "markdown",
   "metadata": {},
   "source": [
    "# Introduction\n",
    "Strings in C# are objects that represent sequences of characters. They are immutable, meaning once created, their contents cannot be changed. C# provides a rich set of methods and properties for working with strings efficiently.\n",
    "\n",
    "## Declaration and Initialization\n",
    "\n",
    "## Creating Strings\n",
    "You can create strings in several ways:\n",
    "\n",
    "```csharp\n",
    "// Using string literals\n",
    "string greeting = \"Hello, World!\";\n",
    "\n",
    "// Using string concatenation\n",
    "string fullName = \"John\" + \" \" + \"Doe\";\n",
    "\n",
    "// Using string interpolation (C# 6.0+)\n",
    "string message = $\"Welcome, {fullName}!\";\n",
    "\n",
    "## Accessing Elements\n",
    "Access array elements using their index:\n",
    "```\n",
    "\n",
    "## String Properties and Methods\n",
    "C# strings come with useful properties and methods:\n",
    "\n",
    "```csharp\n",
    "string text = \"Example Text\";\n",
    "\n",
    "int length = text.Length; // Returns 12\n",
    "\n",
    "string upper = text.ToUpper(); // Returns \"EXAMPLE TEXT\"\n",
    "string lower = text.ToLower(); // Returns \"example text\"\n",
    "\n",
    "bool contains = text.Contains(\"amp\"); // Returns true\n",
    "string trimmed = \"  Hello  \".Trim(); // Returns \"Hello\"\n",
    "\n",
    "int index = trimmed.IndexOf('e'); // Returns 1\n",
    "```\n",
    "\n",
    "Strings are kind of special. They hold an array of chars internally. You can access characters by its 0-based index:\n",
    "```csharp\n",
    "var str = \"hello\";\n",
    "int index = str[0]; // Returns 'h'\n",
    "```\n",
    "\n",
    "== String Manipulation\n",
    "You can manipulate strings using various methods:\n",
    "```csharp\n",
    "string original = \"Hello, World!\";\n",
    "\n",
    "string substring = original.Substring(0, 5); // Returns \"Hello\"\n",
    "string replaced = original.Replace(\"World\", \"C#\"); // Returns \"Hello, C#!\"\n",
    "string[] split = original.Split(','); // Returns [\"Hello\", \" World!\"]\n",
    "```\n",
    "\n",
    "Remember that string operations that appear to modify a string actually create a new string object.\n",
    "\n",
    "# Exercises\n",
    "\n",
    "1. Create a program that takes a sentence as input and counts the number of words in it. Assume words are separated by spaces. Print the total word count. 🌶"
   ]
  },
  {
   "cell_type": "code",
   "execution_count": null,
   "metadata": {},
   "outputs": [],
   "source": []
  },
  {
   "cell_type": "markdown",
   "metadata": {},
   "source": [
    "2. Create a program that takes an input and prints the string character by character in reversed order in new lines. 🌶🌶"
   ]
  },
  {
   "cell_type": "code",
   "execution_count": null,
   "metadata": {},
   "outputs": [],
   "source": []
  },
  {
   "cell_type": "markdown",
   "metadata": {},
   "source": [
    "3. Caesar chiffre: Write a program that can print a string as caesar encrypted value. The user enters a number as encryption key and the program displays every character shifted by that key in the alphabet. You can ignore the casing. 🌶🌶🌶 \n",
    "\n",
    "   #underline[Samples:]\\\n",
    "   ```\n",
    "   Input: Hello\n",
    "   Key: 7\n",
    "   Output: olssv\n",
    "\n",
    "   Input: The zoo is big\n",
    "   Key: 3\n",
    "   Output: Wkh crr lv elj\n",
    "   ```"
   ]
  },
  {
   "cell_type": "markdown",
   "metadata": {},
   "source": []
  },
  {
   "cell_type": "code",
   "execution_count": null,
   "metadata": {},
   "outputs": [],
   "source": []
  },
  {
   "cell_type": "markdown",
   "metadata": {},
   "source": [
    "4. Do the same as in 3. but decode the chiffre. 🌶🌶🌶"
   ]
  },
  {
   "cell_type": "code",
   "execution_count": null,
   "metadata": {},
   "outputs": [],
   "source": []
  }
 ],
 "metadata": {
  "kernelspec": {
   "display_name": ".NET (C#)",
   "language": "C#",
   "name": ".net-csharp"
  },
  "polyglot_notebook": {
   "kernelInfo": {
    "defaultKernelName": "csharp",
    "items": [
     {
      "aliases": [],
      "name": "csharp"
     }
    ]
   }
  }
 },
 "nbformat": 4,
 "nbformat_minor": 2
}
