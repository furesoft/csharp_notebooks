{
 "cells": [
  {
   "cell_type": "markdown",
   "metadata": {},
   "source": [
    "\n",
    "# Introduction\n",
    "\n",
    "In C#, loops are used to repeatedly execute a block of code as long as a specified condition is true. There are several types of loops, each with its specific use cases: while, do-while, for, and foreach. Here's a breakdown of each loop type, along with an exercise for each.\n",
    "\n",
    "## while loop\n",
    "The while loop repeatedly executes a block of code as long as the given condition evaluates to true. The condition is checked before each iteration.\n",
    "\n",
    "Syntax:\n",
    "\n",
    "```csharp\n",
    "Code kopieren\n",
    "while (condition)\n",
    "{\n",
    "    // Code to be executed\n",
    "}\n",
    "```\n",
    "\n",
    "## do-while loop\n",
    "The do-while loop works similarly to the while loop, but with one key difference: it checks the condition after the code block is executed, ensuring that the loop runs at least once.\n",
    "\n",
    "Syntax:\n",
    "\n",
    "```csharp\n",
    "Code kopieren\n",
    "do\n",
    "{\n",
    "    // Code to be executed\n",
    "} while (condition);\n",
    "```\n",
    "\n",
    "## for loop\n",
    "The for loop is commonly used when the number of iterations is known beforehand. It consists of three parts: initialization, condition, and iteration.\n",
    "\n",
    "Syntax:\n",
    "\n",
    "```csharp\n",
    "Code kopieren\n",
    "for (initialization; condition; iteration)\n",
    "{\n",
    "    // Code to be executed\n",
    "}\n",
    "```\n",
    "\n",
    "## foreach loop\n",
    "The foreach loop is used to iterate over collections (arrays, lists, etc.) without needing to manage the loop counter manually. It automatically iterates through all elements of the collection.\n",
    "\n",
    "Syntax:\n",
    "\n",
    "```csharp\n",
    "Code kopieren\n",
    "foreach (var item in collection)\n",
    "{\n",
    "    // Code to be executed\n",
    "}```\n",
    "\n",
    "# Exercises\n",
    "\n",
    "The amount of 🌶 determines how hard the excercises are.\n",
    "\n",
    "1. Write a while loop that prints the numbers from 1 to 10. 🌶"
   ]
  },
  {
   "cell_type": "code",
   "execution_count": null,
   "metadata": {},
   "outputs": [],
   "source": []
  },
  {
   "cell_type": "markdown",
   "metadata": {},
   "source": [
    "2. Write a do-while loop that asks the user to enter a number until they enter a number greater than 100. 🌶"
   ]
  },
  {
   "cell_type": "code",
   "execution_count": null,
   "metadata": {},
   "outputs": [],
   "source": []
  },
  {
   "cell_type": "markdown",
   "metadata": {},
   "source": [
    "3. Write a foreach loop that prints all elements in an array of strings. 🌶"
   ]
  },
  {
   "cell_type": "code",
   "execution_count": null,
   "metadata": {},
   "outputs": [],
   "source": []
  },
  {
   "cell_type": "markdown",
   "metadata": {},
   "source": [
    "4. Write a for loop that prints the multiplication table for a number entered by the user (1 to 10). 🌶🌶"
   ]
  },
  {
   "cell_type": "code",
   "execution_count": null,
   "metadata": {
    "dotnet_interactive": {
     "language": "csharp"
    },
    "polyglot_notebook": {
     "kernelName": "csharp"
    }
   },
   "outputs": [],
   "source": []
  }
 ],
 "metadata": {
  "kernelspec": {
   "display_name": ".NET (C#)",
   "language": "C#",
   "name": ".net-csharp"
  },
  "polyglot_notebook": {
   "kernelInfo": {
    "defaultKernelName": "csharp",
    "items": [
     {
      "aliases": [],
      "name": "csharp"
     }
    ]
   }
  }
 },
 "nbformat": 4,
 "nbformat_minor": 2
}
