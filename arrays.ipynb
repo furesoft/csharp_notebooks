{
 "cells": [
  {
   "cell_type": "markdown",
   "metadata": {},
   "source": [
    "# Introduction\n",
    "\n",
    "C\\# arrays are powerful data structures that allow you to store multiple values of the same data type in a single variable. They provide an efficient way to handle collections of data. Arrays in C\\# are zero-indexed, meaning the first element is at index 0.\n",
    "\n",
    "## Declaration and Initialization\n",
    "\n",
    "You can declare and initialize an array in several ways:\n",
    "```csharp\n",
    "// Declare and initialize in one line\n",
    "int[] numbers = { 1, 2, 3, 4, 5 };\n",
    "\n",
    "// Declare with a specific size\n",
    "string[] names = new string[3];\n",
    "\n",
    "// Declare and initialize with new keyword\n",
    "double[] prices = new double[] { 1.99, 2.99, 3.99 };\n",
    "```\n",
    "\n",
    "== Accessing Elements\n",
    "Access array elements using their index:\n",
    "\n",
    "```csharp\n",
    "int firstNumber = numbers[0]; // Gets the first element (1)\n",
    "names[1] = \"Alice\"; // Sets the second element\n",
    "```\n",
    "\n",
    "Array Length:\n",
    "Use the Length property to get the number of elements in an array:\n",
    "```csharp\n",
    "int arraySize = numbers.Length; // Returns 5\n",
    "```"
   ]
  },
  {
   "cell_type": "markdown",
   "metadata": {},
   "source": [
    "# Excercices\n",
    "\n",
    "1. Write a program that creates an integer array with 5 elements, allows the user to input values for each element, and then calculates and prints the sum of all elements."
   ]
  },
  {
   "cell_type": "code",
   "execution_count": null,
   "metadata": {},
   "outputs": [],
   "source": []
  },
  {
   "cell_type": "markdown",
   "metadata": {},
   "source": [
    "2. Write a program that takes an array display the array in reverse order."
   ]
  },
  {
   "cell_type": "code",
   "execution_count": null,
   "metadata": {},
   "outputs": [],
   "source": []
  },
  {
   "cell_type": "markdown",
   "metadata": {},
   "source": [
    "3. Write a program that finds and prints the maximum value in an array of integers. Create the array with at least 7 elements and initialize it with random numbers between 1 and 100."
   ]
  },
  {
   "cell_type": "code",
   "execution_count": null,
   "metadata": {},
   "outputs": [],
   "source": []
  }
 ],
 "metadata": {
  "kernelspec": {
   "display_name": ".NET (C#)",
   "language": "C#",
   "name": ".net-csharp"
  },
  "polyglot_notebook": {
   "kernelInfo": {
    "defaultKernelName": "csharp",
    "items": [
     {
      "aliases": [],
      "name": "csharp"
     }
    ]
   }
  }
 },
 "nbformat": 4,
 "nbformat_minor": 2
}
