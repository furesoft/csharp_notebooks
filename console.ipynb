{
 "cells": [
  {
   "cell_type": "markdown",
   "metadata": {},
   "source": [
    "\n",
    "# Introduction\n",
    "A console application provides the ability to perform simple text input and output operations. .NET offers helper methods that enable working with the console. These are located in the `System.Console` class.\n",
    "\n",
    "There are two ways to get text input from the user. `System.Console.ReadKey()` returns an object that provides information about the entered character. \n",
    "`System.Console.ReadLine()` returns a string containing the complete user input until the user presses ENTER. Both methods wait for user input, meaning the program will only continue after an input is made.\n",
    "Output\n",
    "\n",
    "The `System.Console` class offers several methods that can output text, a single character, or various numeric data types to the console.\n",
    "`System.Console.WriteLine` works like `System.Console.Write`. Additionally, it starts a new line after the output.\n",
    "\n",
    "Other Methods\n",
    "The System.Console class provides additional methods to work with the console. These include:\n",
    "\n",
    "`System.Console.Clear()` -> Clears the console \\\n",
    "`System.Console.Beep()` -> Plays a short sound\n",
    "\n",
    "# Excercises\n",
    "1. Write a program that asks the user for their name and age and outputs both in one line."
   ]
  },
  {
   "cell_type": "code",
   "execution_count": null,
   "metadata": {
    "dotnet_interactive": {
     "language": "csharp"
    },
    "polyglot_notebook": {
     "kernelName": "csharp"
    }
   },
   "outputs": [],
   "source": []
  },
  {
   "cell_type": "markdown",
   "metadata": {},
   "source": [
    "2. Write a program that asks for the user's birth year and outputs their age in years.\n",
    "- Hint: To convert strings to numbers, each numeric data type has a static Parse method, e.g., int.Parse(\"123\") returns 123 as an integer."
   ]
  },
  {
   "cell_type": "code",
   "execution_count": null,
   "metadata": {},
   "outputs": [],
   "source": []
  },
  {
   "cell_type": "markdown",
   "metadata": {},
   "source": [
    "3. Develop a simple calculator that can add, subtract, multiply, and divide integers. The user should be asked for the first number, the operator, and the second number. The result should be written to the console."
   ]
  },
  {
   "cell_type": "code",
   "execution_count": null,
   "metadata": {},
   "outputs": [],
   "source": []
  },
  {
   "cell_type": "markdown",
   "metadata": {},
   "source": [
    "4. Write a utility program that converts °Celsius to Fahrenheit.\n",
    "Conversion from °Celsius to Fahrenheit using the formula:\n",
    "`Fahrenheit = (Celsius × 9/5) + 32`"
   ]
  },
  {
   "cell_type": "code",
   "execution_count": null,
   "metadata": {},
   "outputs": [],
   "source": []
  }
 ],
 "metadata": {
  "kernelspec": {
   "display_name": ".NET (C#)",
   "language": "C#",
   "name": ".net-csharp"
  },
  "polyglot_notebook": {
   "kernelInfo": {
    "defaultKernelName": "csharp",
    "items": [
     {
      "aliases": [],
      "languageName": "csharp",
      "name": "csharp"
     }
    ]
   }
  }
 },
 "nbformat": 4,
 "nbformat_minor": 2
}
