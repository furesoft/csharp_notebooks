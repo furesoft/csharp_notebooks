{
 "cells": [
  {
   "cell_type": "markdown",
   "metadata": {},
   "source": [
    "\n",
    "# Introduction\n",
    ".Net offers several ways to work with files. You can use a FileStream for this purpose. However, there's also a helper class `System.IO.File` that can read/write files completely in one go.\n",
    "\n",
    "## Reading files\n",
    "The File class provides several methods for reading files:\n",
    "\n",
    "ReadAllText: Reads the entire content of a file as a string\n",
    "```csharp\n",
    "string content = File.ReadAllText(\"TestFile.txt\");\n",
    "```\n",
    "\\\n",
    "ReadAllLines: Reads all lines of a file into a string array\n",
    "```csharp\n",
    "string[] lines = File.ReadAllLines(\"TestFile.txt\");\n",
    "foreach (string line in lines)\n",
    "{\n",
    "    Console.WriteLine(line);\n",
    "}\n",
    "```\n",
    "\\\n",
    "ReadAllBytes: Reads the content of a file as a byte array\n",
    "```csharp\n",
    "byte[] bytes = File.ReadAllBytes(\"TestFile.txt\");\n",
    "```\n",
    "\n",
    "## Writing files\n",
    "\n",
    "The File class also offers several methods for writing to files:\n",
    "WriteAllText: Writes a string to a file\n",
    "\n",
    "```csharp\n",
    "File.WriteAllText(\"output.txt\", \"Hallo Welt!\");\n",
    "```\n",
    "\\\n",
    "\n",
    "WriteAllLines: Writes a string array line by line to a file\n",
    "\n",
    "```csharp\n",
    "string[] lines = { \"Erste Zeile\", \"Zweite Zeile\", \"Dritte Zeile\" };\n",
    "File.WriteAllLines(\"output.txt\", lines);\n",
    "```\n",
    "\\\n",
    "WriteAllBytes: Writes a byte array to a file\n",
    "```csharp\n",
    "byte[] bytes = { 72, 101, 108, 108, 111 }; // \"Hello\" in ASCII\n",
    "File.WriteAllBytes(\"output.bin\", bytes);\n",
    "```\n",
    "\n",
    "# Excercises\n",
    "\n",
    "1. Implement a simple logger that writes messages to a file and adds the date of each message.\n",
    "- Hint: You can get the current date with: System.DateTime.Now"
   ]
  },
  {
   "cell_type": "code",
   "execution_count": null,
   "metadata": {
    "dotnet_interactive": {
     "language": "csharp"
    },
    "polyglot_notebook": {
     "kernelName": "csharp"
    }
   },
   "outputs": [],
   "source": []
  },
  {
   "cell_type": "markdown",
   "metadata": {},
   "source": [
    "2. Implement a program that manages a \"highscore\" list. Users can enter their names and scores, which are then saved in a file. When the program starts, the current highscore list should be displayed."
   ]
  },
  {
   "cell_type": "code",
   "execution_count": null,
   "metadata": {},
   "outputs": [],
   "source": []
  }
 ],
 "metadata": {
  "kernelspec": {
   "display_name": ".NET (C#)",
   "language": "C#",
   "name": ".net-csharp"
  },
  "polyglot_notebook": {
   "kernelInfo": {
    "defaultKernelName": "csharp",
    "items": [
     {
      "aliases": [],
      "languageName": "csharp",
      "name": "csharp"
     }
    ]
   }
  }
 },
 "nbformat": 4,
 "nbformat_minor": 2
}
